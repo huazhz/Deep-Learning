{
 "cells": [
  {
   "cell_type": "markdown",
   "metadata": {},
   "source": [
    "# Model for construct a conv net structure "
   ]
  },
  {
   "cell_type": "code",
   "execution_count": 2,
   "metadata": {
    "collapsed": true
   },
   "outputs": [],
   "source": [
    "import tensorflow as tf\n",
    "import scipy.io as sio\n",
    "import numpy as np"
   ]
  },
  {
   "cell_type": "code",
   "execution_count": 3,
   "metadata": {
    "collapsed": true
   },
   "outputs": [],
   "source": [
    "IMAGE_HEIGHT = 80\n",
    "IMAGE_WIDTH = 31\n",
    "X = tf.placeholder(shape=[None,IMAGE_HEIGHT, IMAGE_WIDTH,1], dtype=tf.float32, name='X-input')\n",
    "is_training = tf.placeholder(dtype=tf.bool)\n",
    "sess = tf.InteractiveSession()"
   ]
  },
  {
   "cell_type": "markdown",
   "metadata": {},
   "source": [
    "## inference"
   ]
  },
  {
   "cell_type": "code",
   "execution_count": 4,
   "metadata": {
    "collapsed": true
   },
   "outputs": [],
   "source": [
    "def inference(images_placeholder, is_training, depth1, depth2, depth3, dense1_units, dense2_units):\n",
    "\n",
    "    training_mode = is_training is not None\n",
    "    print('images_placeholder.shape:', images_placeholder.shape)\n",
    "\n",
    "    # layer1:bn-conv-relu(depth1)-pool\n",
    "    with tf.name_scope('conv1'):\n",
    "        conv = tf.layers.conv2d(\n",
    "            inputs=images_placeholder,\n",
    "            filters=depth1,\n",
    "            kernel_size=[3, 3],\n",
    "            padding=\"same\",\n",
    "            activation=tf.nn.relu\n",
    "        )\n",
    "        print('conv1.shape:', conv.shape)\n",
    "\n",
    "        pool = tf.layers.max_pooling2d(inputs=conv, pool_size=[2, 2], strides=2)\n",
    "        print('pool1.shape:', pool.shape)\n",
    "\n",
    "\n",
    "    # layer2:bn-conv-relu(depth2)-pool\n",
    "    with tf.name_scope('conv2'):\n",
    "        conv = tf.layers.conv2d(\n",
    "            inputs=pool,\n",
    "            filters=depth2,\n",
    "            kernel_size=[3, 3],\n",
    "            padding=\"same\",\n",
    "            activation=tf.nn.relu\n",
    "        )\n",
    "        print('conv2.shape:', conv.shape)\n",
    "        \n",
    "#         conv_without_pool = tf.layers.conv2d(\n",
    "#             inputs=conv,\n",
    "#             filters=depth2,\n",
    "#             kernel_size=[3, 3],\n",
    "#             padding=\"same\",\n",
    "#             activation=tf.nn.relu\n",
    "#         )\n",
    "#         print('conv2_without_pool.shape:', conv_without_pool.shape)\n",
    "\n",
    "        pool = tf.layers.max_pooling2d(inputs=conv, pool_size=[2, 2], strides=2)\n",
    "        print('pool2.shape:', pool.shape)\n",
    "\n",
    "    with tf.name_scope('conv3'):\n",
    "        conv = tf.layers.conv2d(\n",
    "            inputs=pool,\n",
    "            filters=depth3,\n",
    "            kernel_size=[3, 3],\n",
    "            padding=\"same\",\n",
    "            activation=tf.nn.relu\n",
    "        )\n",
    "        print('conv3.shape:', conv.shape)\n",
    "\n",
    "#         conv_without_pool = tf.layers.conv2d(\n",
    "#             inputs=conv,\n",
    "#             filters=depth2,\n",
    "#             kernel_size=[3, 3],\n",
    "#             padding=\"same\",\n",
    "#             activation=tf.nn.relu\n",
    "#         )\n",
    "#         print('conv3_without_pool.shape:', conv_without_pool.shape)\n",
    "\n",
    "        pool = tf.layers.max_pooling2d(inputs=conv, pool_size=[2, 2], strides=2)\n",
    "        print('pool3.shape:', pool.shape)"
   ]
  },
  {
   "cell_type": "markdown",
   "metadata": {},
   "source": [
    "## load data"
   ]
  },
  {
   "cell_type": "code",
   "execution_count": 6,
   "metadata": {},
   "outputs": [
    {
     "name": "stdout",
     "output_type": "stream",
     "text": [
      "X_train.shape:  (3480, 80, 31)\n",
      "y_train.shape:  (3480, 1)\n",
      "X_test.shape:  (870, 80, 31)\n",
      "y_test.shape:  (870, 1)\n"
     ]
    }
   ],
   "source": [
    "def loadEEGData():\n",
    "    dataPath = 'F:/Deep Learning/eeg/dataset/health2/'\n",
    "    X_train = sio.loadmat(dataPath+'X_train.mat')['X_train']\n",
    "    X_test = sio.loadmat(dataPath+'X_test.mat')['X_test']\n",
    "    y_train = sio.loadmat(dataPath+'y_train.mat')['y_train']\n",
    "    y_test = sio.loadmat(dataPath+'y_test.mat')['y_test']\n",
    "\n",
    "    return X_train, y_train, X_test, y_test\n",
    "\n",
    "X_train, y_train, X_test, y_test = loadEEGData()\n",
    "print('X_train.shape: ', X_train.shape)\n",
    "print('y_train.shape: ', y_train.shape)\n",
    "print('X_test.shape: ', X_test.shape)\n",
    "print('y_test.shape: ', y_test.shape)"
   ]
  },
  {
   "cell_type": "markdown",
   "metadata": {},
   "source": [
    "## test model structure"
   ]
  },
  {
   "cell_type": "code",
   "execution_count": 7,
   "metadata": {},
   "outputs": [
    {
     "name": "stdout",
     "output_type": "stream",
     "text": [
      "images_placeholder.shape: (?, 80, 31, 1)\n",
      "conv1.shape: (?, 80, 31, 32)\n",
      "pool1.shape: (?, 40, 15, 32)\n",
      "conv2.shape: (?, 40, 15, 64)\n",
      "pool2.shape: (?, 20, 7, 64)\n",
      "conv3.shape: (?, 20, 7, 128)\n",
      "pool3.shape: (?, 10, 3, 128)\n"
     ]
    }
   ],
   "source": [
    "inference(X, True, 32, 64, 128, 1, 1)"
   ]
  }
 ],
 "metadata": {
  "kernelspec": {
   "display_name": "Python 3",
   "language": "python",
   "name": "python3"
  },
  "language_info": {
   "codemirror_mode": {
    "name": "ipython",
    "version": 3
   },
   "file_extension": ".py",
   "mimetype": "text/x-python",
   "name": "python",
   "nbconvert_exporter": "python",
   "pygments_lexer": "ipython3",
   "version": "3.5.3"
  }
 },
 "nbformat": 4,
 "nbformat_minor": 1
}
