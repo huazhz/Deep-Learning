{
 "cells": [
  {
   "cell_type": "code",
   "execution_count": 1,
   "metadata": {
    "collapsed": true
   },
   "outputs": [],
   "source": [
    "import tensorflow as tf\n",
    "import scipy.io as sio\n",
    "import numpy as np"
   ]
  },
  {
   "cell_type": "code",
   "execution_count": 2,
   "metadata": {
    "collapsed": true
   },
   "outputs": [],
   "source": [
    "IMAGE_HEIGHT = 144\n",
    "IMAGE_WIDTH = 111\n",
    "X = tf.placeholder(shape=[None,IMAGE_HEIGHT, IMAGE_WIDTH,1], dtype=tf.float32, name='X-input')\n",
    "is_training = tf.placeholder(dtype=tf.bool)\n",
    "sess = tf.InteractiveSession()"
   ]
  },
  {
   "cell_type": "code",
   "execution_count": 3,
   "metadata": {
    "collapsed": true
   },
   "outputs": [],
   "source": [
    "def inference(images_placeholder, is_training, depth1, depth2, depth3, dense1_units, dense2_units):\n",
    "\n",
    "    training_mode = is_training is not None\n",
    "    print('images_placeholder.shape:', images_placeholder.shape)\n",
    "\n",
    "    # layer1:bn-conv-relu(depth1)-pool\n",
    "    with tf.name_scope('conv1'):\n",
    "        conv = tf.layers.conv2d(\n",
    "            inputs=images_placeholder,\n",
    "            filters=depth1,\n",
    "            kernel_size=[3, 3],\n",
    "            padding=\"same\",\n",
    "            activation=tf.nn.relu\n",
    "        )\n",
    "        print('conv1.shape:', conv.shape)\n",
    "\n",
    "        pool = tf.layers.max_pooling2d(inputs=conv, pool_size=[2, 2], strides=2)\n",
    "        print('pool1.shape:', pool.shape)\n",
    "\n",
    "\n",
    "    # layer2:bn-conv-relu(depth2)-pool\n",
    "    with tf.name_scope('conv2'):\n",
    "        conv = tf.layers.conv2d(\n",
    "            inputs=pool,\n",
    "            filters=depth2,\n",
    "            kernel_size=[3, 3],\n",
    "            padding=\"same\",\n",
    "            activation=tf.nn.relu\n",
    "        )\n",
    "        print('conv2.shape:', conv.shape)\n",
    "        \n",
    "#         conv_without_pool = tf.layers.conv2d(\n",
    "#             inputs=conv,\n",
    "#             filters=depth2,\n",
    "#             kernel_size=[3, 3],\n",
    "#             padding=\"same\",\n",
    "#             activation=tf.nn.relu\n",
    "#         )\n",
    "#         print('conv2_without_pool.shape:', conv_without_pool.shape)\n",
    "\n",
    "        pool = tf.layers.max_pooling2d(inputs=conv, pool_size=[2, 2], strides=2)\n",
    "        print('pool2.shape:', pool.shape)\n",
    "\n",
    "    with tf.name_scope('conv3'):\n",
    "        conv = tf.layers.conv2d(\n",
    "            inputs=pool,\n",
    "            filters=depth3,\n",
    "            kernel_size=[3, 3],\n",
    "            padding=\"same\",\n",
    "            activation=tf.nn.relu\n",
    "        )\n",
    "        print('conv3.shape:', conv.shape)\n",
    "\n",
    "#         conv_without_pool = tf.layers.conv2d(\n",
    "#             inputs=conv,\n",
    "#             filters=depth2,\n",
    "#             kernel_size=[3, 3],\n",
    "#             padding=\"same\",\n",
    "#             activation=tf.nn.relu\n",
    "#         )\n",
    "#         print('conv3_without_pool.shape:', conv_without_pool.shape)\n",
    "\n",
    "        pool = tf.layers.max_pooling2d(inputs=conv, pool_size=[2, 2], strides=2)\n",
    "        print('pool3.shape:', pool.shape)"
   ]
  },
  {
   "cell_type": "code",
   "execution_count": 5,
   "metadata": {},
   "outputs": [
    {
     "name": "stdout",
     "output_type": "stream",
     "text": [
      "X_train.shape:  (3500, 144, 111, 1)\n",
      "y_train.shape:  (3500,)\n",
      "X_test.shape:  (625, 144, 111, 1)\n",
      "y_test.shape:  (625,)\n"
     ]
    }
   ],
   "source": [
    "def loadEEGData():\n",
    "    dataPath = 'F:/Deep Learning/eeg/dataset/words/'\n",
    "    # 4125*144*111\n",
    "    X = sio.loadmat(dataPath+'X.mat')['X']\n",
    "    y = sio.loadmat(dataPath+'y.mat')['y']\n",
    "\n",
    "    X_train = X[0:3500,:,:]\n",
    "    X_test = X[3500:,:,:]\n",
    "    y_train = y[0:3500,:]\n",
    "    y_test = y[3500:,:]\n",
    "\n",
    "    # labels是从1到125，改成0到57\n",
    "    y_train = y_train - 1\n",
    "    y_test = y_test - 1\n",
    "\n",
    "    X_train = np.reshape(X_train, (-1, 144, 111, 1))\n",
    "    y_train = np.reshape(y_train, (-1,))\n",
    "    X_test = np.reshape(X_test, (-1, 144, 111, 1))\n",
    "    y_test = np.reshape(y_test, (-1,))\n",
    "\n",
    "    mean_image = np.mean(X_train, axis=0)\n",
    "    X_train -= mean_image\n",
    "    X_test -= mean_image\n",
    "\n",
    "    return X_train, y_train, X_test, y_test\n",
    "\n",
    "X_train, y_train, X_test, y_test = loadEEGData()\n",
    "print('X_train.shape: ', X_train.shape)\n",
    "print('y_train.shape: ', y_train.shape)\n",
    "print('X_test.shape: ', X_test.shape)\n",
    "print('y_test.shape: ', y_test.shape)"
   ]
  },
  {
   "cell_type": "code",
   "execution_count": 6,
   "metadata": {},
   "outputs": [
    {
     "name": "stdout",
     "output_type": "stream",
     "text": [
      "images_placeholder.shape: (?, 144, 111, 1)\n",
      "conv1.shape: (?, 144, 111, 32)\n",
      "pool1.shape: (?, 72, 55, 32)\n",
      "conv2.shape: (?, 72, 55, 64)\n",
      "pool2.shape: (?, 36, 27, 64)\n",
      "conv3.shape: (?, 36, 27, 128)\n",
      "pool3.shape: (?, 18, 13, 128)\n"
     ]
    }
   ],
   "source": [
    "inference(X, True, 32, 64, 128, 1, 1)"
   ]
  }
 ],
 "metadata": {
  "kernelspec": {
   "display_name": "Python 3",
   "language": "python",
   "name": "python3"
  },
  "language_info": {
   "codemirror_mode": {
    "name": "ipython",
    "version": 3
   },
   "file_extension": ".py",
   "mimetype": "text/x-python",
   "name": "python",
   "nbconvert_exporter": "python",
   "pygments_lexer": "ipython3",
   "version": "3.5.3"
  }
 },
 "nbformat": 4,
 "nbformat_minor": 2
}
