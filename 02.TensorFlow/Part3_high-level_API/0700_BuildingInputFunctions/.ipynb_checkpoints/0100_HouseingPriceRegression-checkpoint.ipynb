{
 "cells": [
  {
   "cell_type": "markdown",
   "metadata": {},
   "source": [
    "### import"
   ]
  },
  {
   "cell_type": "code",
   "execution_count": 1,
   "metadata": {
    "collapsed": true
   },
   "outputs": [],
   "source": [
    "from __future__ import absolute_import\n",
    "from __future__ import division\n",
    "from __future__ import print_function\n",
    "import itertools\n",
    "import pandas as pd\n",
    "import tensorflow as tf\n",
    "tf.logging.set_verbosity(tf.logging.INFO)"
   ]
  },
  {
   "cell_type": "markdown",
   "metadata": {},
   "source": [
    "### load data"
   ]
  },
  {
   "cell_type": "code",
   "execution_count": 2,
   "metadata": {
    "collapsed": true
   },
   "outputs": [],
   "source": [
    "COLUMNS = [\"crim\", \"zn\", \"indus\", \"nox\", \"rm\", \"age\", \"dis\", \"tax\", \"ptratio\", \"medv\"]\n",
    "FEATURES = [\"crim\", \"zn\", \"indus\", \"nox\", \"rm\", \"age\", \"dis\", \"tax\", \"ptratio\"]\n",
    "LABEL = \"medv\"\n",
    "\n",
    "training_set = pd.read_csv(\"boston_train.csv\", skipinitialspace=True, skiprows=1, names=COLUMNS)\n",
    "test_set = pd.read_csv(\"boston_test.csv\", skipinitialspace=True, skiprows=1, names=COLUMNS)\n",
    "prediction_set = pd.read_csv(\"boston_predict.csv\", skipinitialspace=True, skiprows=1, names=COLUMNS)"
   ]
  },
  {
   "cell_type": "markdown",
   "metadata": {},
   "source": [
    "### create a list of FeatureColumns for the input data"
   ]
  },
  {
   "cell_type": "code",
   "execution_count": 3,
   "metadata": {
    "collapsed": true
   },
   "outputs": [],
   "source": [
    "feature_cols = [tf.contrib.layers.real_valued_column(k) for k in FEATURES]"
   ]
  },
  {
   "cell_type": "markdown",
   "metadata": {},
   "source": [
    "### instantiate a DNNRegressor"
   ]
  },
  {
   "cell_type": "code",
   "execution_count": 4,
   "metadata": {},
   "outputs": [
    {
     "name": "stdout",
     "output_type": "stream",
     "text": [
      "INFO:tensorflow:Using default config.\n",
      "INFO:tensorflow:Using config: {'_keep_checkpoint_max': 5, '_is_chief': True, '_environment': 'local', '_tf_random_seed': None, '_save_summary_steps': 100, '_session_config': None, '_save_checkpoints_secs': 600, '_num_ps_replicas': 0, '_task_id': 0, '_master': '', '_num_worker_replicas': 0, '_keep_checkpoint_every_n_hours': 10000, '_model_dir': '/tmp/boston_model', '_cluster_spec': <tensorflow.python.training.server_lib.ClusterSpec object at 0x00000257A75D79E8>, '_tf_config': gpu_options {\n",
      "  per_process_gpu_memory_fraction: 1\n",
      "}\n",
      ", '_save_checkpoints_steps': None, '_task_type': None, '_evaluation_master': ''}\n"
     ]
    }
   ],
   "source": [
    "regressor = tf.contrib.learn.DNNRegressor(\n",
    "    feature_columns=feature_cols, hidden_units=[10, 10], model_dir=\"/tmp/boston_model\")"
   ]
  },
  {
   "cell_type": "markdown",
   "metadata": {},
   "source": [
    "### define input_fn"
   ]
  },
  {
   "cell_type": "code",
   "execution_count": 8,
   "metadata": {},
   "outputs": [],
   "source": [
    "def input_fn(data_set):\n",
    "    feature_cols = {k: tf.constant(data_set[k].values) \n",
    "                    for k in COLUMNS}\n",
    "    labels = tf.constant(data_set[LABEL].values)\n",
    "    \n",
    "    return feature_cols, labels"
   ]
  },
  {
   "cell_type": "markdown",
   "metadata": {},
   "source": [
    "### training the Regressor"
   ]
  },
  {
   "cell_type": "code",
   "execution_count": 10,
   "metadata": {},
   "outputs": [
    {
     "name": "stdout",
     "output_type": "stream",
     "text": [
      "WARNING:tensorflow:Rank of input Tensor (1) should be the same as output_rank (2) for column. Will attempt to expand dims. It is highly recommended that you resize your input, as this behavior may change.\n",
      "WARNING:tensorflow:Rank of input Tensor (1) should be the same as output_rank (2) for column. Will attempt to expand dims. It is highly recommended that you resize your input, as this behavior may change.\n",
      "WARNING:tensorflow:Rank of input Tensor (1) should be the same as output_rank (2) for column. Will attempt to expand dims. It is highly recommended that you resize your input, as this behavior may change.\n",
      "WARNING:tensorflow:Rank of input Tensor (1) should be the same as output_rank (2) for column. Will attempt to expand dims. It is highly recommended that you resize your input, as this behavior may change.\n",
      "WARNING:tensorflow:Rank of input Tensor (1) should be the same as output_rank (2) for column. Will attempt to expand dims. It is highly recommended that you resize your input, as this behavior may change.\n",
      "WARNING:tensorflow:Rank of input Tensor (1) should be the same as output_rank (2) for column. Will attempt to expand dims. It is highly recommended that you resize your input, as this behavior may change.\n",
      "WARNING:tensorflow:Rank of input Tensor (1) should be the same as output_rank (2) for column. Will attempt to expand dims. It is highly recommended that you resize your input, as this behavior may change.\n",
      "WARNING:tensorflow:Rank of input Tensor (1) should be the same as output_rank (2) for column. Will attempt to expand dims. It is highly recommended that you resize your input, as this behavior may change.\n",
      "WARNING:tensorflow:Rank of input Tensor (1) should be the same as output_rank (2) for column. Will attempt to expand dims. It is highly recommended that you resize your input, as this behavior may change.\n",
      "WARNING:tensorflow:From d:\\program files\\python35\\lib\\site-packages\\tensorflow\\contrib\\learn\\python\\learn\\estimators\\head.py:625: scalar_summary (from tensorflow.python.ops.logging_ops) is deprecated and will be removed after 2016-11-30.\n",
      "Instructions for updating:\n",
      "Please switch to tf.summary.scalar. Note that tf.summary.scalar uses the node name instead of the tag. This means that TensorFlow will automatically de-duplicate summary names based on the scope they are created in. Also, passing a tensor or list of tags to a scalar summary op is no longer supported.\n",
      "INFO:tensorflow:Create CheckpointSaverHook.\n",
      "INFO:tensorflow:Saving checkpoints for 1 into /tmp/boston_model\\model.ckpt.\n",
      "INFO:tensorflow:loss = 19719.5, step = 1\n",
      "INFO:tensorflow:global_step/sec: 1201.64\n",
      "INFO:tensorflow:loss = 97.9977, step = 101 (0.085 sec)\n",
      "INFO:tensorflow:global_step/sec: 1187.61\n",
      "INFO:tensorflow:loss = 83.0363, step = 201 (0.084 sec)\n",
      "INFO:tensorflow:global_step/sec: 1146.35\n",
      "INFO:tensorflow:loss = 77.1936, step = 301 (0.087 sec)\n",
      "INFO:tensorflow:global_step/sec: 1159.71\n",
      "INFO:tensorflow:loss = 74.1192, step = 401 (0.086 sec)\n",
      "INFO:tensorflow:global_step/sec: 1173.34\n",
      "INFO:tensorflow:loss = 72.6723, step = 501 (0.086 sec)\n",
      "INFO:tensorflow:global_step/sec: 1173.34\n",
      "INFO:tensorflow:loss = 70.0843, step = 601 (0.084 sec)\n",
      "INFO:tensorflow:global_step/sec: 1187.15\n",
      "INFO:tensorflow:loss = 67.5104, step = 701 (0.085 sec)\n",
      "INFO:tensorflow:global_step/sec: 1017.81\n",
      "INFO:tensorflow:loss = 65.2471, step = 801 (0.098 sec)\n",
      "INFO:tensorflow:global_step/sec: 949.838\n",
      "INFO:tensorflow:loss = 63.6651, step = 901 (0.107 sec)\n",
      "INFO:tensorflow:global_step/sec: 852.438\n",
      "INFO:tensorflow:loss = 61.4283, step = 1001 (0.115 sec)\n",
      "INFO:tensorflow:global_step/sec: 1187.31\n",
      "INFO:tensorflow:loss = 60.3206, step = 1101 (0.084 sec)\n",
      "INFO:tensorflow:global_step/sec: 1216.27\n",
      "INFO:tensorflow:loss = 58.5751, step = 1201 (0.081 sec)\n",
      "INFO:tensorflow:global_step/sec: 1231.27\n",
      "INFO:tensorflow:loss = 56.7131, step = 1301 (0.081 sec)\n",
      "INFO:tensorflow:global_step/sec: 1216.26\n",
      "INFO:tensorflow:loss = 54.9515, step = 1401 (0.082 sec)\n",
      "INFO:tensorflow:global_step/sec: 1216.27\n",
      "INFO:tensorflow:loss = 53.4062, step = 1501 (0.082 sec)\n",
      "INFO:tensorflow:global_step/sec: 1201.63\n",
      "INFO:tensorflow:loss = 50.3621, step = 1601 (0.083 sec)\n",
      "INFO:tensorflow:global_step/sec: 1225.2\n",
      "INFO:tensorflow:loss = 49.4454, step = 1701 (0.082 sec)\n",
      "INFO:tensorflow:global_step/sec: 1187.3\n",
      "INFO:tensorflow:loss = 48.2806, step = 1801 (0.085 sec)\n",
      "INFO:tensorflow:global_step/sec: 1132.95\n",
      "INFO:tensorflow:loss = 45.6442, step = 1901 (0.087 sec)\n",
      "INFO:tensorflow:global_step/sec: 1096.36\n",
      "INFO:tensorflow:loss = 43.5871, step = 2001 (0.092 sec)\n",
      "INFO:tensorflow:global_step/sec: 1108.15\n",
      "INFO:tensorflow:loss = 44.2829, step = 2101 (0.089 sec)\n",
      "INFO:tensorflow:global_step/sec: 1262.46\n",
      "INFO:tensorflow:loss = 41.964, step = 2201 (0.078 sec)\n",
      "INFO:tensorflow:global_step/sec: 1246.65\n",
      "INFO:tensorflow:loss = 40.8375, step = 2301 (0.081 sec)\n",
      "INFO:tensorflow:global_step/sec: 1262.47\n",
      "INFO:tensorflow:loss = 39.2403, step = 2401 (0.078 sec)\n",
      "INFO:tensorflow:global_step/sec: 1278.65\n",
      "INFO:tensorflow:loss = 39.2245, step = 2501 (0.078 sec)\n",
      "INFO:tensorflow:global_step/sec: 1246.65\n",
      "INFO:tensorflow:loss = 38.1267, step = 2601 (0.080 sec)\n",
      "INFO:tensorflow:global_step/sec: 1262.45\n",
      "INFO:tensorflow:loss = 36.9092, step = 2701 (0.080 sec)\n",
      "INFO:tensorflow:global_step/sec: 1231.28\n",
      "INFO:tensorflow:loss = 36.6837, step = 2801 (0.080 sec)\n",
      "INFO:tensorflow:global_step/sec: 1262.49\n",
      "INFO:tensorflow:loss = 36.7996, step = 2901 (0.080 sec)\n",
      "INFO:tensorflow:global_step/sec: 1173.35\n",
      "INFO:tensorflow:loss = 34.3, step = 3001 (0.085 sec)\n",
      "INFO:tensorflow:global_step/sec: 1246.67\n",
      "INFO:tensorflow:loss = 34.0457, step = 3101 (0.080 sec)\n",
      "INFO:tensorflow:global_step/sec: 1246.65\n",
      "INFO:tensorflow:loss = 34.1327, step = 3201 (0.080 sec)\n",
      "INFO:tensorflow:global_step/sec: 1246.71\n",
      "INFO:tensorflow:loss = 33.2366, step = 3301 (0.080 sec)\n",
      "INFO:tensorflow:global_step/sec: 1201.61\n",
      "INFO:tensorflow:loss = 33.175, step = 3401 (0.083 sec)\n",
      "INFO:tensorflow:global_step/sec: 1231.29\n",
      "INFO:tensorflow:loss = 32.4407, step = 3501 (0.081 sec)\n",
      "INFO:tensorflow:global_step/sec: 1246.67\n",
      "INFO:tensorflow:loss = 32.1067, step = 3601 (0.080 sec)\n",
      "INFO:tensorflow:global_step/sec: 1231.24\n",
      "INFO:tensorflow:loss = 32.4786, step = 3701 (0.081 sec)\n",
      "INFO:tensorflow:global_step/sec: 1246.52\n",
      "INFO:tensorflow:loss = 31.9276, step = 3801 (0.080 sec)\n",
      "INFO:tensorflow:global_step/sec: 1231.48\n",
      "INFO:tensorflow:loss = 31.6139, step = 3901 (0.080 sec)\n",
      "INFO:tensorflow:global_step/sec: 1246.68\n",
      "INFO:tensorflow:loss = 32.311, step = 4001 (0.080 sec)\n",
      "INFO:tensorflow:global_step/sec: 1262.46\n",
      "INFO:tensorflow:loss = 31.3715, step = 4101 (0.079 sec)\n",
      "INFO:tensorflow:global_step/sec: 1108.16\n",
      "INFO:tensorflow:loss = 31.3405, step = 4201 (0.091 sec)\n",
      "INFO:tensorflow:global_step/sec: 1262.44\n",
      "INFO:tensorflow:loss = 32.3422, step = 4301 (0.079 sec)\n",
      "INFO:tensorflow:global_step/sec: 1262.46\n",
      "INFO:tensorflow:loss = 30.9131, step = 4401 (0.079 sec)\n",
      "INFO:tensorflow:global_step/sec: 1246.68\n",
      "INFO:tensorflow:loss = 32.4688, step = 4501 (0.080 sec)\n",
      "INFO:tensorflow:global_step/sec: 1246.68\n",
      "INFO:tensorflow:loss = 34.5444, step = 4601 (0.080 sec)\n",
      "INFO:tensorflow:global_step/sec: 1246.69\n",
      "INFO:tensorflow:loss = 31.0328, step = 4701 (0.079 sec)\n",
      "INFO:tensorflow:global_step/sec: 1231.28\n",
      "INFO:tensorflow:loss = 31.043, step = 4801 (0.081 sec)\n",
      "INFO:tensorflow:global_step/sec: 1201.62\n",
      "INFO:tensorflow:loss = 31.1094, step = 4901 (0.083 sec)\n",
      "INFO:tensorflow:Saving checkpoints for 5000 into /tmp/boston_model\\model.ckpt.\n",
      "INFO:tensorflow:Loss for final step: 30.6799.\n"
     ]
    },
    {
     "data": {
      "text/plain": [
       "DNNRegressor(params={'gradient_clip_norm': None, 'dropout': None, 'input_layer_min_slice_size': None, 'feature_columns': (_RealValuedColumn(column_name='crim', dimension=1, default_value=None, dtype=tf.float32, normalizer=None), _RealValuedColumn(column_name='zn', dimension=1, default_value=None, dtype=tf.float32, normalizer=None), _RealValuedColumn(column_name='indus', dimension=1, default_value=None, dtype=tf.float32, normalizer=None), _RealValuedColumn(column_name='nox', dimension=1, default_value=None, dtype=tf.float32, normalizer=None), _RealValuedColumn(column_name='rm', dimension=1, default_value=None, dtype=tf.float32, normalizer=None), _RealValuedColumn(column_name='age', dimension=1, default_value=None, dtype=tf.float32, normalizer=None), _RealValuedColumn(column_name='dis', dimension=1, default_value=None, dtype=tf.float32, normalizer=None), _RealValuedColumn(column_name='tax', dimension=1, default_value=None, dtype=tf.float32, normalizer=None), _RealValuedColumn(column_name='ptratio', dimension=1, default_value=None, dtype=tf.float32, normalizer=None)), 'head': <tensorflow.contrib.learn.python.learn.estimators.head._RegressionHead object at 0x00000257A75E37B8>, 'activation_fn': <function relu at 0x00000257A4D9A6A8>, 'optimizer': None, 'hidden_units': [10, 10], 'embedding_lr_multipliers': None})"
      ]
     },
     "execution_count": 10,
     "metadata": {},
     "output_type": "execute_result"
    }
   ],
   "source": [
    "regressor.fit(input_fn=lambda: input_fn(training_set), steps=5000)"
   ]
  },
  {
   "cell_type": "markdown",
   "metadata": {},
   "source": [
    "### evaluate the model use test_set"
   ]
  },
  {
   "cell_type": "code",
   "execution_count": 11,
   "metadata": {},
   "outputs": [
    {
     "name": "stdout",
     "output_type": "stream",
     "text": [
      "WARNING:tensorflow:Rank of input Tensor (1) should be the same as output_rank (2) for column. Will attempt to expand dims. It is highly recommended that you resize your input, as this behavior may change.\n",
      "WARNING:tensorflow:Rank of input Tensor (1) should be the same as output_rank (2) for column. Will attempt to expand dims. It is highly recommended that you resize your input, as this behavior may change.\n",
      "WARNING:tensorflow:Rank of input Tensor (1) should be the same as output_rank (2) for column. Will attempt to expand dims. It is highly recommended that you resize your input, as this behavior may change.\n",
      "WARNING:tensorflow:Rank of input Tensor (1) should be the same as output_rank (2) for column. Will attempt to expand dims. It is highly recommended that you resize your input, as this behavior may change.\n",
      "WARNING:tensorflow:Rank of input Tensor (1) should be the same as output_rank (2) for column. Will attempt to expand dims. It is highly recommended that you resize your input, as this behavior may change.\n",
      "WARNING:tensorflow:Rank of input Tensor (1) should be the same as output_rank (2) for column. Will attempt to expand dims. It is highly recommended that you resize your input, as this behavior may change.\n",
      "WARNING:tensorflow:Rank of input Tensor (1) should be the same as output_rank (2) for column. Will attempt to expand dims. It is highly recommended that you resize your input, as this behavior may change.\n",
      "WARNING:tensorflow:Rank of input Tensor (1) should be the same as output_rank (2) for column. Will attempt to expand dims. It is highly recommended that you resize your input, as this behavior may change.\n",
      "WARNING:tensorflow:Rank of input Tensor (1) should be the same as output_rank (2) for column. Will attempt to expand dims. It is highly recommended that you resize your input, as this behavior may change.\n",
      "WARNING:tensorflow:From d:\\program files\\python35\\lib\\site-packages\\tensorflow\\contrib\\learn\\python\\learn\\estimators\\head.py:625: scalar_summary (from tensorflow.python.ops.logging_ops) is deprecated and will be removed after 2016-11-30.\n",
      "Instructions for updating:\n",
      "Please switch to tf.summary.scalar. Note that tf.summary.scalar uses the node name instead of the tag. This means that TensorFlow will automatically de-duplicate summary names based on the scope they are created in. Also, passing a tensor or list of tags to a scalar summary op is no longer supported.\n",
      "INFO:tensorflow:Starting evaluation at 2017-06-24-11:26:54\n",
      "INFO:tensorflow:Restoring parameters from /tmp/boston_model\\model.ckpt-5000\n",
      "INFO:tensorflow:Evaluation [1/1]\n",
      "INFO:tensorflow:Finished evaluation at 2017-06-24-11:26:54\n",
      "INFO:tensorflow:Saving dict for global step 5000: global_step = 5000, loss = 13.288\n"
     ]
    },
    {
     "data": {
      "text/plain": [
       "{'global_step': 5000, 'loss': 13.288013}"
      ]
     },
     "execution_count": 11,
     "metadata": {},
     "output_type": "execute_result"
    }
   ],
   "source": [
    "regressor.evaluate(input_fn=lambda: input_fn(test_set), steps=1)"
   ]
  },
  {
   "cell_type": "markdown",
   "metadata": {},
   "source": [
    "### predict"
   ]
  },
  {
   "cell_type": "code",
   "execution_count": 12,
   "metadata": {},
   "outputs": [
    {
     "name": "stdout",
     "output_type": "stream",
     "text": [
      "WARNING:tensorflow:From d:\\program files\\python35\\lib\\site-packages\\tensorflow\\python\\util\\deprecation.py:347: calling DNNRegressor.predict (from tensorflow.contrib.learn.python.learn.estimators.dnn) with outputs=None is deprecated and will be removed after 2017-03-01.\n",
      "Instructions for updating:\n",
      "Please switch to predict_scores, or set `outputs` argument.\n",
      "WARNING:tensorflow:Rank of input Tensor (1) should be the same as output_rank (2) for column. Will attempt to expand dims. It is highly recommended that you resize your input, as this behavior may change.\n",
      "WARNING:tensorflow:Rank of input Tensor (1) should be the same as output_rank (2) for column. Will attempt to expand dims. It is highly recommended that you resize your input, as this behavior may change.\n",
      "WARNING:tensorflow:Rank of input Tensor (1) should be the same as output_rank (2) for column. Will attempt to expand dims. It is highly recommended that you resize your input, as this behavior may change.\n",
      "WARNING:tensorflow:Rank of input Tensor (1) should be the same as output_rank (2) for column. Will attempt to expand dims. It is highly recommended that you resize your input, as this behavior may change.\n",
      "WARNING:tensorflow:Rank of input Tensor (1) should be the same as output_rank (2) for column. Will attempt to expand dims. It is highly recommended that you resize your input, as this behavior may change.\n",
      "WARNING:tensorflow:Rank of input Tensor (1) should be the same as output_rank (2) for column. Will attempt to expand dims. It is highly recommended that you resize your input, as this behavior may change.\n",
      "WARNING:tensorflow:Rank of input Tensor (1) should be the same as output_rank (2) for column. Will attempt to expand dims. It is highly recommended that you resize your input, as this behavior may change.\n",
      "WARNING:tensorflow:Rank of input Tensor (1) should be the same as output_rank (2) for column. Will attempt to expand dims. It is highly recommended that you resize your input, as this behavior may change.\n",
      "WARNING:tensorflow:Rank of input Tensor (1) should be the same as output_rank (2) for column. Will attempt to expand dims. It is highly recommended that you resize your input, as this behavior may change.\n",
      "INFO:tensorflow:Restoring parameters from /tmp/boston_model\\model.ckpt-5000\n",
      "predictions are: [33.422604, 17.327173, 22.906982, 34.57021, 14.025826, 17.317656]\n"
     ]
    }
   ],
   "source": [
    "y = regressor.predict(input_fn=lambda: input_fn(prediction_set))\n",
    "\n",
    "predictions = list(itertools.islice(y, 6))\n",
    "print(\"Predictions are: {}\".format(predictions))"
   ]
  }
 ],
 "metadata": {
  "kernelspec": {
   "display_name": "Python 3",
   "language": "python",
   "name": "python3"
  },
  "language_info": {
   "codemirror_mode": {
    "name": "ipython",
    "version": 3
   },
   "file_extension": ".py",
   "mimetype": "text/x-python",
   "name": "python",
   "nbconvert_exporter": "python",
   "pygments_lexer": "ipython3",
   "version": "3.5.3"
  }
 },
 "nbformat": 4,
 "nbformat_minor": 2
}
